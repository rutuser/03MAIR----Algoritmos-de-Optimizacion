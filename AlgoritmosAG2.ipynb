{
  "nbformat": 4,
  "nbformat_minor": 0,
  "metadata": {
    "colab": {
      "name": "AlgoritmosAG2.ipynb",
      "provenance": [],
      "collapsed_sections": [],
      "toc_visible": true,
      "authorship_tag": "ABX9TyM9DARzxW98eJzmLpvwu85y",
      "include_colab_link": true
    },
    "kernelspec": {
      "name": "python3",
      "display_name": "Python 3"
    }
  },
  "cells": [
    {
      "cell_type": "markdown",
      "metadata": {
        "id": "view-in-github",
        "colab_type": "text"
      },
      "source": [
        "<a href=\"https://colab.research.google.com/github/rutuser/03MAIR----Algoritmos-de-Optimizacion/blob/main/AlgoritmosAG2.ipynb\" target=\"_parent\"><img src=\"https://colab.research.google.com/assets/colab-badge.svg\" alt=\"Open In Colab\"/></a>"
      ]
    },
    {
      "cell_type": "markdown",
      "metadata": {
        "id": "POgCIwmqxeTA"
      },
      "source": [
        "#Actividad Guiada 2\n",
        "Nombre: Michal Ruzicka <br>\n",
        "Link: https://colab.research.google.com/drive/1ujUwIOq9jHVPYTrR-spcT8JDnQZhQoRC?usp=sharing <br>\n",
        "Github: https://github.com/rutuser/03MAIR----Algoritmos-de-Optimizacion\n",
        "\n"
      ]
    },
    {
      "cell_type": "markdown",
      "metadata": {
        "id": "Z-m3k06fWaZz"
      },
      "source": [
        "## Viaje por el rio"
      ]
    },
    {
      "cell_type": "code",
      "metadata": {
        "id": "cryx70Duxpgj"
      },
      "source": [
        "from math import inf"
      ],
      "execution_count": null,
      "outputs": []
    },
    {
      "cell_type": "code",
      "metadata": {
        "id": "fsC038r8yJlr"
      },
      "source": [
        "TARIFAS = [\n",
        "[0,5,4,3,inf,inf,inf],   #desde nodo 0\n",
        "[inf,0,inf,2,3,inf,11],  #desde nodo 1\n",
        "[inf,inf, 0,1,inf,4,10], #desde nodo 2\n",
        "[inf,inf,inf, 0,5,6,9],\n",
        "[inf,inf, inf,inf,0,inf,4],\n",
        "[inf,inf, inf,inf,inf,0,3],\n",
        "[inf,inf,inf,inf,inf,inf,0]\n",
        "]"
      ],
      "execution_count": null,
      "outputs": []
    },
    {
      "cell_type": "code",
      "metadata": {
        "id": "8RUsZ9CxAIy4"
      },
      "source": [
        "def Precios(TARIFAS):\n",
        "  N = len(TARIFAS[0])\n",
        "  \n",
        "  #Inicialización de la tabla de precios\n",
        "  PRECIOS = [ [inf]*N for i in [inf]*N]  #n x n \n",
        "  RUTA = [ [\"\"]*N for i in [\"\"]*N]\n",
        "  \n",
        "  for i in range(N-1):\n",
        "    for j in range(i+1, N):\n",
        "      MIN = TARIFAS[i][j]\n",
        "      RUTA[i][j] = i\n",
        "      \n",
        "      for k in range(i, j):\n",
        "        if PRECIOS[i][k] + TARIFAS[k][j] < MIN:\n",
        "            MIN = min(MIN, PRECIOS[i][k] + TARIFAS[k][j] )\n",
        "            RUTA[i][j] = k\n",
        "        PRECIOS[i][j] = MIN\n",
        "        \n",
        "  return PRECIOS,RUTA"
      ],
      "execution_count": null,
      "outputs": []
    },
    {
      "cell_type": "code",
      "metadata": {
        "colab": {
          "base_uri": "https://localhost:8080/"
        },
        "id": "veqh8hAJAKLv",
        "outputId": "2bbed38a-97e7-4bfc-c035-c1c388e89d12"
      },
      "source": [
        "PRECIOS,RUTA = Precios(TARIFAS)  \n",
        "#print(PRECIOS[0][6])\n",
        "\n",
        "print(\"PRECIOS\")\n",
        "for i in range(len(TARIFAS)):\n",
        "  print(PRECIOS[i])\n",
        "\n",
        "print(\"\\nRUTA\")  \n",
        "for i in range(len(TARIFAS)):\n",
        "  print(RUTA[i])"
      ],
      "execution_count": null,
      "outputs": [
        {
          "output_type": "stream",
          "text": [
            "PRECIOS\n",
            "[inf, 5, 4, 3, 8, 8, 11]\n",
            "[inf, inf, inf, 2, 3, 8, 7]\n",
            "[inf, inf, inf, 1, 6, 4, 7]\n",
            "[inf, inf, inf, inf, 5, 6, 9]\n",
            "[inf, inf, inf, inf, inf, inf, 4]\n",
            "[inf, inf, inf, inf, inf, inf, 3]\n",
            "[inf, inf, inf, inf, inf, inf, inf]\n",
            "\n",
            "RUTA\n",
            "['', 0, 0, 0, 1, 2, 5]\n",
            "['', '', 1, 1, 1, 3, 4]\n",
            "['', '', '', 2, 3, 2, 5]\n",
            "['', '', '', '', 3, 3, 3]\n",
            "['', '', '', '', '', 4, 4]\n",
            "['', '', '', '', '', '', 5]\n",
            "['', '', '', '', '', '', '']\n"
          ],
          "name": "stdout"
        }
      ]
    },
    {
      "cell_type": "code",
      "metadata": {
        "id": "ECo-BN5KAM9i",
        "colab": {
          "base_uri": "https://localhost:8080/",
          "height": 71
        },
        "outputId": "aaae3a33-9b60-4188-a51f-5bd1e33612fd"
      },
      "source": [
        "def calcular_ruta(RUTA, desde, hasta):\n",
        "  if desde == hasta:\n",
        "    #print(\"Ir a :\" + str(desde))\n",
        "    return desde \n",
        "  else:\n",
        "    return str(calcular_ruta(RUTA, desde, RUTA[desde][hasta])) +  ',' + str(RUTA[desde][hasta]) \n",
        "\n",
        "print(\"\\nLa ruta es:\")  \n",
        "calcular_ruta(RUTA, 0,6) "
      ],
      "execution_count": null,
      "outputs": [
        {
          "output_type": "stream",
          "text": [
            "\n",
            "La ruta es:\n"
          ],
          "name": "stdout"
        },
        {
          "output_type": "execute_result",
          "data": {
            "application/vnd.google.colaboratory.intrinsic+json": {
              "type": "string"
            },
            "text/plain": [
              "'0,0,2,5'"
            ]
          },
          "metadata": {
            "tags": []
          },
          "execution_count": 7
        }
      ]
    },
    {
      "cell_type": "markdown",
      "metadata": {
        "id": "kDDCLXK99J74"
      },
      "source": [
        "## Ramificación y poda"
      ]
    },
    {
      "cell_type": "code",
      "metadata": {
        "id": "ovOt2ZVIB0zU"
      },
      "source": [
        "COSTES=[[11,12,18,40],\n",
        "        [14,15,13,22],\n",
        "        [11,17,19,23],\n",
        "        [17,14,20,28]]"
      ],
      "execution_count": null,
      "outputs": []
    },
    {
      "cell_type": "code",
      "metadata": {
        "colab": {
          "base_uri": "https://localhost:8080/"
        },
        "id": "GBBcNKdrB3GC",
        "outputId": "5540b9b4-4bc3-4d39-a4b7-0513e0b13e71"
      },
      "source": [
        "def valor(S,COSTES):\n",
        "  VALOR = 0\n",
        "  for i in range(len(S)):\n",
        "    VALOR += COSTES[S[i]][i] \n",
        "  return VALOR\n",
        "  \n",
        "valor((0, 1, 2, 3  ),COSTES)"
      ],
      "execution_count": null,
      "outputs": [
        {
          "output_type": "execute_result",
          "data": {
            "text/plain": [
              "73"
            ]
          },
          "metadata": {
            "tags": []
          },
          "execution_count": 12
        }
      ]
    },
    {
      "cell_type": "code",
      "metadata": {
        "colab": {
          "base_uri": "https://localhost:8080/"
        },
        "id": "Hztnfi3k2vu6",
        "outputId": "47ee9a74-2dc7-40fc-9ee0-cd1bb6879069"
      },
      "source": [
        "from itertools import permutations\n",
        "\n",
        "def fuerza_bruta(COSTES):\n",
        "  mejor_valor = 10e10\n",
        "  mejor_solucion = ()\n",
        "\n",
        "  for s in list(permutations(range(len(COSTES)))):\n",
        "    valor_tpm = valor(s,COSTES)\n",
        "    if valor_tpm < mejor_valor:\n",
        "      mejor_valor = valor_tpm\n",
        "      mejor_solucion = s\n",
        "\n",
        "  print(\"La mejor solucion es \", mejor_solucion, \" con valor \", mejor_valor)\n",
        "\n",
        "fuerza_bruta(COSTES)"
      ],
      "execution_count": null,
      "outputs": [
        {
          "output_type": "stream",
          "text": [
            "La mejor solucion es  (0, 3, 1, 2)  con valor  61\n"
          ],
          "name": "stdout"
        }
      ]
    },
    {
      "cell_type": "code",
      "metadata": {
        "colab": {
          "base_uri": "https://localhost:8080/"
        },
        "id": "aIlSMgTlB48F",
        "outputId": "24f1b1f0-e121-48ec-fe85-5fcfae369b2c"
      },
      "source": [
        "#Coste inferior para soluciones parciales\n",
        "#  (1,3,) Se asigna la tarea 1 al agente 0 y la tarea 3 al agente 1\n",
        "\n",
        "def CI(S,COSTES):\n",
        "  VALOR = 0\n",
        "  #Valores establecidos\n",
        "  for i in range(len(S)):\n",
        "    VALOR += COSTES[i][S[i]]\n",
        "\n",
        "  #Estimacion\n",
        "  for i in range( len(S), len(COSTES)   ):\n",
        "    VALOR += min( [ COSTES[j][i] for j in range(len(S), len(COSTES))  ])\n",
        "  return VALOR\n",
        "\n",
        "def CS(S,COSTES):\n",
        "  VALOR = 0\n",
        "  #Valores establecidos\n",
        "  for i in range(len(S)):\n",
        "    VALOR += COSTES[i][S[i]]\n",
        "\n",
        "  #Estimacion\n",
        "  for i in range( len(S), len(COSTES)   ):\n",
        "    VALOR += max( [ COSTES[j][i] for j in range(len(S), len(COSTES))  ])\n",
        "  return VALOR\n",
        "\n",
        "CS((0,1),COSTES)"
      ],
      "execution_count": null,
      "outputs": [
        {
          "output_type": "execute_result",
          "data": {
            "text/plain": [
              "74"
            ]
          },
          "metadata": {
            "tags": []
          },
          "execution_count": 10
        }
      ]
    },
    {
      "cell_type": "code",
      "metadata": {
        "id": "cBLqX_o3B7bI"
      },
      "source": [
        "#Genera tantos hijos como como posibilidades haya para la siguiente elemento de la tupla\n",
        "#(0,) -> (0,1), (0,2), (0,3)\n",
        "def crear_hijos(NODO, N):\n",
        "  HIJOS = []\n",
        "  for i in range(N ):\n",
        "    if i not in NODO:\n",
        "      HIJOS.append({'s':NODO +(i,)    })\n",
        "  return HIJOS"
      ],
      "execution_count": null,
      "outputs": []
    },
    {
      "cell_type": "code",
      "metadata": {
        "id": "YDTRkctdB9Ng",
        "colab": {
          "base_uri": "https://localhost:8080/"
        },
        "outputId": "e4b7ddde-33cc-461c-e9a5-370beedf6b63"
      },
      "source": [
        "def ramificacion_y_poda(COSTES):\n",
        "  DIMENSION = len(COSTES)\n",
        "  MEJOR_SOLUCION = tuple(i for i in range(len(COSTES)))\n",
        "\n",
        "  cota_sup = valor(MEJOR_SOLUCION, COSTES)\n",
        "\n",
        "  nodos = []\n",
        "  nodos.append({'s': (), 'ci': CI((), COSTES)})\n",
        "\n",
        "  iteracion = 0\n",
        "\n",
        "  while len(nodos) > 0:\n",
        "    iteracion += 1\n",
        "\n",
        "    nodo_prometedor = [min(nodos, key=lambda x: x['ci'])][0]['s']\n",
        "\n",
        "    # SE GENERAN HIJOS\n",
        "    hijos = [{'s': x['s'], 'ci': CI(x['s'], COSTES)} for x in crear_hijos(nodo_prometedor, DIMENSION)]\n",
        "\n",
        "    nodo_final = [x for x in hijos if len(x['s']) == DIMENSION]\n",
        "\n",
        "    if len(nodo_final) > 0:\n",
        "      if nodo_final[0]['ci'] < cota_sup:\n",
        "        cota_sup = nodo_final[0]['ci']\n",
        "        mejor_solucion = nodo_final\n",
        "\n",
        "    # PODA\n",
        "    hijos = [x for x in hijos if x['ci'] < cota_sup]\n",
        "\n",
        "    # AÑADIMOS LOS HIJOS\n",
        "    nodos.extend(hijos)\n",
        "\n",
        "    # ELIMINAMOS EL NODO RAMIFICADO\n",
        "    nodos = [x for x in nodos if x['s'] != nodo_prometedor]\n",
        "\n",
        "  print(\"La mejor solucion es \", MEJOR_SOLUCION, \" en \", iteracion, \" iteraciones \", \" para la dimension \", DIMENSION)\n",
        "\n",
        "ramificacion_y_poda(COSTES)"
      ],
      "execution_count": null,
      "outputs": [
        {
          "output_type": "stream",
          "text": [
            "La mejor solucion es  (0, 1, 2, 3)  en  10  iteraciones   para la dimension  4\n"
          ],
          "name": "stdout"
        }
      ]
    },
    {
      "cell_type": "markdown",
      "metadata": {
        "id": "azpcL59a81BS"
      },
      "source": [
        "## Descenso de gradiente"
      ]
    },
    {
      "cell_type": "code",
      "metadata": {
        "id": "VpHgKm_R84V_"
      },
      "source": [
        "import matplotlib.pyplot as plt\n",
        "import numpy as np\n",
        "import random"
      ],
      "execution_count": null,
      "outputs": []
    },
    {
      "cell_type": "code",
      "metadata": {
        "colab": {
          "base_uri": "https://localhost:8080/",
          "height": 282
        },
        "id": "skjEcvF59xLN",
        "outputId": "8edae220-bd08-4d24-b985-856d8a044203"
      },
      "source": [
        "f = lambda x: x[0]**2+x[1]**2 # funcion\n",
        "df = lambda x: [2*x[0], 2*x[1]] # gradiente\n",
        "\n",
        "resolucion = 100\n",
        "rango = 2.5\n",
        "x = np.linspace(-rango, rango, resolucion)\n",
        "y = np.linspace(-rango, rango, resolucion)\n",
        "z = np.zeros((resolucion, resolucion))\n",
        "\n",
        "for ix, valor_x in enumerate(x):\n",
        "  for iy, valor_y in enumerate(y):\n",
        "    z[ix, iy] = f([valor_x,valor_y])\n",
        "\n",
        "plt.contourf(x,y,z,resolucion)\n",
        "plt.colorbar()\n",
        "\n",
        "# Generamos un punto aleatorio\n",
        "p = [ random.uniform(-2, 2), random.uniform(-2, 2)]\n",
        "plt.plot(p[0], p[1], \"o\", c=\"white\")\n",
        "\n",
        "# tasa de aprendizaje\n",
        "ta = .1\n",
        "\n",
        "for _ in range(500):\n",
        "  grad = df(p)\n",
        "\n",
        "  p[0], p[1] = p[0] - ta*grad[0], p[1] - ta*grad[1]\n",
        "  plt.plot(p[0], p[1], \"o\", c=\"red\")\n",
        "\n",
        "plt.plot(p[0], p[1], \"o\", c=\"green\")\n",
        "plt.show()\n",
        "\n",
        "print(\"Solucion\", p, f(p))"
      ],
      "execution_count": null,
      "outputs": [
        {
          "output_type": "display_data",
          "data": {
            "image/png": "[encoded data removed]",
            "text/plain": [
              "<Figure size 432x288 with 2 Axes>"
            ]
          },
          "metadata": {
            "tags": [],
            "needs_background": "light"
          }
        },
        {
          "output_type": "stream",
          "text": [
            "Solucion [-6.475051731439034e-49, 5.320357877439425e-49] 7.023250286884337e-97\n"
          ],
          "name": "stdout"
        }
      ]
    }
  ]
}