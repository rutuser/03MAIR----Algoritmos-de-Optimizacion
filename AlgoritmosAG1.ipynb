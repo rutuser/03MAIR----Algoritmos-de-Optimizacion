{
  "nbformat": 4,
  "nbformat_minor": 0,
  "metadata": {
    "colab": {
      "name": "AlgoritmosAG1.ipynb",
      "provenance": [],
      "collapsed_sections": [],
      "toc_visible": true,
      "mount_file_id": "1rwG3o0oFIfCxpgQxRRmQ3oADuEjXjYkw",
      "authorship_tag": "ABX9TyMoALDMnQ4NTeWdhKXzIAJi",
      "include_colab_link": true
    },
    "kernelspec": {
      "name": "python3",
      "display_name": "Python 3"
    }
  },
  "cells": [
    {
      "cell_type": "markdown",
      "metadata": {
        "id": "view-in-github",
        "colab_type": "text"
      },
      "source": [
        "<a href=\"https://colab.research.google.com/github/rutuser/03MAIR----Algoritmos-de-Optimizacion/blob/main/AlgoritmosAG1.ipynb\" target=\"_parent\"><img src=\"https://colab.research.google.com/assets/colab-badge.svg\" alt=\"Open In Colab\"/></a>"
      ]
    },
    {
      "cell_type": "markdown",
      "metadata": {
        "id": "vBMAY0mMuUSE"
      },
      "source": [
        "# Algoritmos - Actividad guiada 1\n",
        "\n",
        "Nombre: Michal Ruzicka Ruzicka <br>\n",
        "URL: https://colab.research.google.com/drive/1rwG3o0oFIfCxpgQxRRmQ3oADuEjXjYkw?usp=sharing <br>\n",
        "GitHub: https://github.com/rutuser/03MAIR----Algoritmos-de-Optimizacion"
      ]
    },
    {
      "cell_type": "markdown",
      "metadata": {
        "id": "RdVj5ZLJxUk8"
      },
      "source": [
        "### Torres de Hanoi con Divide y vencerás"
      ]
    },
    {
      "cell_type": "code",
      "metadata": {
        "colab": {
          "base_uri": "https://localhost:8080/"
        },
        "id": "G_jlCo6wxZzw",
        "outputId": "ce2ac585-e71c-45ca-c632-3c9b35c83232"
      },
      "source": [
        "def torres_hanoi(N, desde, hasta):\n",
        "  if N == 1:\n",
        "    print('Lleva la ficha desde', desde, 'hasta', hasta)\n",
        "  else:\n",
        "    torres_hanoi(N-1, desde, list({1,2,3} - {desde,hasta})[0])\n",
        "    print('Ahora Lleva la ficha desde', desde, 'hasta', hasta)\n",
        "\n",
        "    torres_hanoi(N-1, list({1,2,3} - {desde,hasta})[0], hasta)\n",
        "\n",
        "\n",
        "torres_hanoi(3,1,3)"
      ],
      "execution_count": 9,
      "outputs": [
        {
          "output_type": "stream",
          "text": [
            "Lleva la ficha desde 1 hasta 3\n",
            "Ahora Lleva la ficha desde 1 hasta 2\n",
            "Lleva la ficha desde 3 hasta 2\n",
            "Ahora Lleva la ficha desde 1 hasta 3\n",
            "Lleva la ficha desde 2 hasta 1\n",
            "Ahora Lleva la ficha desde 2 hasta 3\n",
            "Lleva la ficha desde 1 hasta 3\n"
          ],
          "name": "stdout"
        }
      ]
    },
    {
      "cell_type": "markdown",
      "metadata": {
        "id": "_yH5uXZAFXTv"
      },
      "source": [
        "## Devolución de cambio por técnica voraz"
      ]
    },
    {
      "cell_type": "code",
      "metadata": {
        "colab": {
          "base_uri": "https://localhost:8080/"
        },
        "id": "GSTXyIf3zKMV",
        "outputId": "e61be591-49bb-4323-c7ef-9b5ba20ecd8f"
      },
      "source": [
        "def cambio_moneda(N, SM):\n",
        "  sol = [0]*len(SM)\n",
        "  acc = 0\n",
        "\n",
        "  for i, valor in enumerate(SM):\n",
        "    monedas = (N - acc)//valor\n",
        "    sol[i] = monedas\n",
        "    acc = acc + monedas*valor\n",
        "\n",
        "    if acc == N:\n",
        "      return sol\n",
        "    \n",
        "cambio_moneda(231, [100, 50, 20, 10, 5, 1])"
      ],
      "execution_count": 30,
      "outputs": [
        {
          "output_type": "execute_result",
          "data": {
            "text/plain": [
              "[2, 0, 1, 1, 0, 1]"
            ]
          },
          "metadata": {
            "tags": []
          },
          "execution_count": 30
        }
      ]
    },
    {
      "cell_type": "markdown",
      "metadata": {
        "id": "u9nRMTA4F5ao"
      },
      "source": [
        "## N-Reinas por la técnica de vuelta atrás"
      ]
    },
    {
      "cell_type": "code",
      "metadata": {
        "colab": {
          "base_uri": "https://localhost:8080/"
        },
        "id": "D4-K5JOwF_vL",
        "outputId": "bcadfd55-ab9a-4e8a-f365-55677e7ee61b"
      },
      "source": [
        "def describe(S):\n",
        "  n = len(S)\n",
        "  for x in range(n):\n",
        "    print(\"\")\n",
        "    for i in range(n):\n",
        "      if S[i] == x + 1:\n",
        "        print(\" X \", end=\"\")\n",
        "      else:\n",
        "        print(\" - \", end=\"\")\n",
        "\n",
        "def es_prometedora(sol, etapa):\n",
        "  for i in range(etapa+1):\n",
        "    if sol.count(sol[i]) > 1:\n",
        "      return False\n",
        "    \n",
        "    for j in range(i+1, etapa+1):\n",
        "      if abs(i-j) == abs(sol[i] - sol[j]):\n",
        "        return False\n",
        "\n",
        "  return True\n",
        "\n",
        "def reinas(N, solucion=[], etapa=0):\n",
        "  if len(solucion) == 0:\n",
        "    solucion = [0 for i in range(N)]\n",
        "\n",
        "  for i in range(1, N+1):\n",
        "    solucion[etapa] = i\n",
        "\n",
        "    if es_prometedora(solucion, etapa):\n",
        "      if etapa == N-1:\n",
        "        print(solucion)\n",
        "        describe(solucion)\n",
        "        print()\n",
        "      else:\n",
        "        reinas(N, solucion, etapa+1)\n",
        "    else:\n",
        "      None\n",
        "\n",
        "    solucion[etapa] = 0\n",
        "  \n",
        "reinas(4)\n"
      ],
      "execution_count": 55,
      "outputs": [
        {
          "output_type": "stream",
          "text": [
            "[2, 4, 1, 3]\n",
            "\n",
            " -  -  X  - \n",
            " X  -  -  - \n",
            " -  -  -  X \n",
            " -  X  -  - \n",
            "[3, 1, 4, 2]\n",
            "\n",
            " -  X  -  - \n",
            " -  -  -  X \n",
            " X  -  -  - \n",
            " -  -  X  - \n"
          ],
          "name": "stdout"
        }
      ]
    }
  ]
}