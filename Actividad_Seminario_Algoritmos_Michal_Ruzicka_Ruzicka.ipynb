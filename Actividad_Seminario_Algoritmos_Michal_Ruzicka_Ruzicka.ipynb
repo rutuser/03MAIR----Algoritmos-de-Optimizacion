{
  "nbformat": 4,
  "nbformat_minor": 0,
  "metadata": {
    "colab": {
      "name": "Actividad_Seminario_Algoritmos_Michal_Ruzicka_Ruzicka.ipynb",
      "provenance": [],
      "collapsed_sections": [],
      "toc_visible": true,
      "include_colab_link": true
    },
    "kernelspec": {
      "display_name": "Python 3",
      "language": "python",
      "name": "python3"
    },
    "language_info": {
      "codemirror_mode": {
        "name": "ipython",
        "version": 3
      },
      "file_extension": ".py",
      "mimetype": "text/x-python",
      "name": "python",
      "nbconvert_exporter": "python",
      "pygments_lexer": "ipython3",
      "version": "3.8.3"
    }
  },
  "cells": [
    {
      "cell_type": "markdown",
      "metadata": {
        "id": "view-in-github",
        "colab_type": "text"
      },
      "source": [
        "<a href=\"https://colab.research.google.com/github/rutuser/03MAIR----Algoritmos-de-Optimizacion/blob/main/Actividad_Seminario_Algoritmos_Michal_Ruzicka_Ruzicka.ipynb\" target=\"_parent\"><img src=\"https://colab.research.google.com/assets/colab-badge.svg\" alt=\"Open In Colab\"/></a>"
      ]
    },
    {
      "cell_type": "markdown",
      "metadata": {
        "id": "hVbXYX-RfPWh"
      },
      "source": [
        "# Algoritmos de optimización - Seminario<br>\n",
        "Nombre y Apellidos: Michal Ruzicka Ruzicka  <br>\n",
        "Url: https://github.com/.../03MAIR---Algoritmos-de-Optimizacion---2019/tree/master/SEMINARIO<br>\n",
        "Problema:\n",
        "> 1. Elección de grupos de población homogéneos <br>\n",
        ">2. Organizar los horarios de partidos de La Liga<br>\n",
        ">3. Combinar cifras y operaciones\n",
        "\n",
        "Descripción del problema:(copiar enunciado)\n",
        "\n",
        "### Problema 3. - Combinar cifras y operaciones <br>\n",
        "• El problema consiste en analizar el siguiente problema y diseñar un algoritmo que lo resuelva. <br>\n",
        "• Disponemos de las 9 cifras del 1 al 9 (excluimos el cero) y de los 4 signos básicos de las\n",
        "operaciones fundamentales: suma(+), resta(-), multiplicación(*) y división(/) <br>\n",
        "• Debemos combinarlos alternativamente sin repetir ninguno de ellos para obtener una\n",
        "cantidad dada. Un ejemplo sería para obtener el 4:\n",
        "`4+2-6/3x1`\n",
        "\n",
        "Debe analizarse el problema para encontrar todos los valores enteros posibles planteando las\n",
        "siguientes cuestiones: <br>\n",
        "- ¿Qué valor máximo y mínimo se pueden obtener según las condiciones del problema? <br>\n",
        "- ¿Es posible encontrar todos los valores enteros posibles entre dicho mínimo y máximo ? <br>\n",
        "- Nota: Es posible usar la función de python `eval` para evaluar una expresión\n",
        "\n",
        "(*) La respuesta es obligatoria\n",
        "\n",
        "\n",
        "\n",
        "\n",
        "\n",
        "                                        "
      ]
    },
    {
      "cell_type": "markdown",
      "metadata": {
        "id": "3_-exlrTgLd-"
      },
      "source": [
        "(*)¿Cuantas posibilidades hay sin tener en cuenta las restricciones?<br>\n",
        "\n",
        "\n",
        "\n",
        "¿Cuantas posibilidades hay teniendo en cuenta todas las restricciones.\n",
        "\n",
        "\n"
      ]
    },
    {
      "cell_type": "markdown",
      "metadata": {
        "id": "WfCUqJyKhPcw"
      },
      "source": [
        "Respuesta"
      ]
    },
    {
      "cell_type": "code",
      "metadata": {
        "id": "m_dQBrfBL8au"
      },
      "source": [
        "from itertools import permutations, product\n",
        "import random"
      ],
      "execution_count": 49,
      "outputs": []
    },
    {
      "cell_type": "code",
      "metadata": {
        "id": "YMbJ867PP4_2"
      },
      "source": [
        "numbers = ['1', '2', '3', '4', '5', '6', '7', '8', '9']\n",
        "operators = ['+', '-', '*', '/']"
      ],
      "execution_count": 50,
      "outputs": []
    },
    {
      "cell_type": "code",
      "metadata": {
        "colab": {
          "base_uri": "https://localhost:8080/"
        },
        "id": "uZkwe9SMuljz",
        "outputId": "c851bfa6-e4da-409a-8ca5-bb0f30115178"
      },
      "source": [
        "# Numero de combinaciones sin restricciones (con repeticiones de numeros y operaciones)\n",
        "\n",
        "# Usando el producto cartesiano\n",
        "combinaciones_numeros = list(product(numbers,repeat=len(operators)+1))\n",
        "\n",
        "combinaciones_operadores = list(product(operators,repeat=len(operators)))\n",
        "\n",
        "combinaciones_totales = len(combinaciones_numeros) * len(combinaciones_operadores)\n",
        "\n",
        "combinaciones_totales"
      ],
      "execution_count": 28,
      "outputs": [
        {
          "output_type": "execute_result",
          "data": {
            "text/plain": [
              "15116544"
            ]
          },
          "metadata": {
            "tags": []
          },
          "execution_count": 28
        }
      ]
    },
    {
      "cell_type": "code",
      "metadata": {
        "id": "YE5hGGlf4QmA",
        "colab": {
          "base_uri": "https://localhost:8080/"
        },
        "outputId": "a5a146d4-5c7e-4dec-8b84-9afef98203d4"
      },
      "source": [
        "# Numero de combinaciones con restricciones (sin repeticiones de numeros y operaciones)\n",
        "\n",
        "# Usando permutaciones\n",
        "combinaciones_numeros = list(permutations(numbers,len(operators)+1))\n",
        "\n",
        "combinaciones_operadores = list(permutations(operators,len(operators)))\n",
        "\n",
        "combinaciones_totales = len(combinaciones_numeros) * len(combinaciones_operadores)\n",
        "\n",
        "combinaciones_totales"
      ],
      "execution_count": 29,
      "outputs": [
        {
          "output_type": "execute_result",
          "data": {
            "text/plain": [
              "362880"
            ]
          },
          "metadata": {
            "tags": []
          },
          "execution_count": 29
        }
      ]
    },
    {
      "cell_type": "markdown",
      "metadata": {
        "id": "dzynfVJahHoY"
      },
      "source": [
        "Modelo para el espacio de soluciones<br>\n",
        "(*) ¿Cual es la estructura de datos que mejor se adapta al problema? Argumentalo.(Es posible que hayas elegido una al principio y veas la necesidad de cambiar, arguentalo)\n"
      ]
    },
    {
      "cell_type": "markdown",
      "metadata": {
        "id": "xFIJrOwKi2Ti"
      },
      "source": [
        "Respuesta"
      ]
    },
    {
      "cell_type": "markdown",
      "metadata": {
        "id": "NjS2gXjXQCCu"
      },
      "source": [
        "#### La mejor estructura de datos que se adapta al problema es un `list()` o `set()`. Al principio pensé en usar un `set()`\n",
        "#### para asegurarme de que las soluciones fuesen únicas, pero más tarde me di cuenta de que al usar permutaciones,\n",
        "#### las soluciones ya serán únicas."
      ]
    },
    {
      "cell_type": "markdown",
      "metadata": {
        "id": "7Z9U2W7bi-XS"
      },
      "source": [
        "Según el modelo para el espacio de soluciones<br>\n",
        "(*)¿Cual es la función objetivo?\n",
        "\n",
        "(*)¿Es un problema de maximización o minimización?"
      ]
    },
    {
      "cell_type": "markdown",
      "metadata": {
        "id": "hBalWLM7j1_d"
      },
      "source": [
        "Respuesta"
      ]
    },
    {
      "cell_type": "markdown",
      "metadata": {
        "id": "T9VSIX03Od9I"
      },
      "source": [
        "#### Función objetivo: `n!, n = 9, 9! = 362880`\n",
        "#### Problema de minimización"
      ]
    },
    {
      "cell_type": "markdown",
      "metadata": {
        "id": "rlnTYgY1j6I2"
      },
      "source": [
        "Diseña un algoritmo para resolver el problema por fuerza bruta"
      ]
    },
    {
      "cell_type": "markdown",
      "metadata": {
        "id": "70rDgxYXkC8r"
      },
      "source": [
        "Respuesta"
      ]
    },
    {
      "cell_type": "code",
      "metadata": {
        "colab": {
          "base_uri": "https://localhost:8080/"
        },
        "id": "4giYk-0GP5cB",
        "outputId": "5634e927-9c31-419d-9281-69d18a27428b"
      },
      "source": [
        "# Espacio de soluciones\n",
        "espacio_soluciones = set()\n",
        "\n",
        "for values in permutations(numbers,len(operators)+1):\n",
        "    for opers in permutations(operators,len(operators)):\n",
        "      formula = \"\".join(o+v for o,v in zip([\"\"]+list(opers),values)) # Intercalar los numeros con los operadores\n",
        "      evaluacion = eval(formula)\n",
        "\n",
        "      if evaluacion - int(evaluacion) == 0: # Solo buscamos numeros enteros\n",
        "        espacio_soluciones.add(eval(formula))\n",
        "\n",
        "min_value = min(espacio_soluciones)\n",
        "max_value = max(espacio_soluciones)\n",
        "\n",
        "print('El espacio de soluciones se encuentra entre el ', min_value, 'y el', max_value)"
      ],
      "execution_count": 51,
      "outputs": [
        {
          "output_type": "stream",
          "text": [
            "El espacio de soluciones se encuentra entre el  -69.0 y el 77.0\n"
          ],
          "name": "stdout"
        }
      ]
    },
    {
      "cell_type": "code",
      "metadata": {
        "id": "CJb5sQ0qkENy"
      },
      "source": [
        "def search_formula(num):\n",
        "  resultado = list()\n",
        "  counter = 0\n",
        "\n",
        "  for values in permutations(numbers,len(operators)+1):\n",
        "    for opers in permutations(operators,len(operators)):\n",
        "      formula = \"\".join(o+v for o,v in zip([\"\"]+list(opers),values)) # Intercalar los numeros con los operadores\n",
        "      evaluacion = eval(formula)\n",
        "      counter += 1\n",
        "\n",
        "      if evaluacion == num:\n",
        "        print(counter, 'iteraciones para el numero', str(num)+'.', 'Formula encontrada ->', formula)\n",
        "        return [formula, counter]"
      ],
      "execution_count": 52,
      "outputs": []
    },
    {
      "cell_type": "code",
      "metadata": {
        "id": "wQxe9_6ISSUV"
      },
      "source": [
        "# Elegimos un numero aleatorio de nuestro espacio de soluciones\n",
        "# para tomar de referencia su resultado y comprobar si mejoramos el algoritmo mas tarde\n",
        "rand_number = random.randint(min_value,max_value)"
      ],
      "execution_count": 55,
      "outputs": []
    },
    {
      "cell_type": "code",
      "metadata": {
        "colab": {
          "base_uri": "https://localhost:8080/"
        },
        "id": "T9R5KpykSLch",
        "outputId": "c6ba5c49-4641-4e1f-8f86-713097cfbc82"
      },
      "source": [
        "# Aplicamos nuestro algoritmo al numero elegido\n",
        "resultado = search_formula(rand_number)"
      ],
      "execution_count": 56,
      "outputs": [
        {
          "output_type": "stream",
          "text": [
            "41397 iteraciones para el numero 52. Formula encontrada -> 2/1-4+6*9\n"
          ],
          "name": "stdout"
        }
      ]
    },
    {
      "cell_type": "markdown",
      "metadata": {
        "id": "tgrnsC2nkFa8"
      },
      "source": [
        "Calcula la complejidad del algoritmo por fuerza bruta"
      ]
    },
    {
      "cell_type": "markdown",
      "metadata": {
        "id": "9eUd3xwckP68"
      },
      "source": [
        "Respuesta"
      ]
    },
    {
      "cell_type": "markdown",
      "metadata": {
        "id": "qxq6o7tZU0Ug"
      },
      "source": [
        "#### La complejidad puede variar desde `O(1)` hasta `O(n*m)` dependiendo del número e iteracion en la que se encuentre a formula\n",
        "#### Siendo n el número de permutaciones posibles de números, y m el número de permutaciones posibles de operadores\n",
        "#### `n = permutations(numbers, len(operators)+1)`\n",
        "#### `m = permutations(operators, len(operators))`"
      ]
    },
    {
      "cell_type": "markdown",
      "metadata": {
        "id": "txbrmLmskReM"
      },
      "source": [
        "(*)Diseña un algoritmo que mejore la complejidad del algortimo por fuerza bruta. Argumenta porque crees que mejora el algoritmo por fuerza bruta"
      ]
    },
    {
      "cell_type": "markdown",
      "metadata": {
        "id": "hLrVwt5QkZPD"
      },
      "source": [
        "Respuesta"
      ]
    },
    {
      "cell_type": "code",
      "metadata": {
        "id": "m1eyM21Vkabg"
      },
      "source": [
        "def search_formula_rand(num):\n",
        "  resultado = list()\n",
        "  counter = 0\n",
        "\n",
        "  #Iterando de forma aleatoria.\n",
        "  for values in sorted(permutations(numbers,len(operators)+1), key=lambda _: random.random()):\n",
        "    for opers in sorted(permutations(operators,len(operators)), key=lambda _: random.random()):\n",
        "      formula = \"\".join(o+v for o,v in zip([\"\"]+list(opers),values)) # Intercalar los numeros con los operadores\n",
        "      evaluacion = eval(formula)\n",
        "      counter += 1\n",
        "\n",
        "      if evaluacion == num:\n",
        "        print(counter, ' iteraciones para el numero', str(num)+'.', 'Formula encontrada ->', formula)\n",
        "        return [formula, counter]"
      ],
      "execution_count": 57,
      "outputs": []
    },
    {
      "cell_type": "code",
      "metadata": {
        "colab": {
          "base_uri": "https://localhost:8080/"
        },
        "id": "T2zWqjP-R1cW",
        "outputId": "d5d60e6f-7224-4678-ac9c-1812ba4f47ff"
      },
      "source": [
        "# Aplicamos nuestro algoritmo mejorado al mismo numero\n",
        "resultado_mejorado = search_formula_rand(rand_number)"
      ],
      "execution_count": 58,
      "outputs": [
        {
          "output_type": "stream",
          "text": [
            "628  iteraciones para el numero 52. Formula encontrada -> 6*9+2/1-4\n"
          ],
          "name": "stdout"
        }
      ]
    },
    {
      "cell_type": "markdown",
      "metadata": {
        "id": "eGDB4K6uk1iN"
      },
      "source": [
        "(*)Calcula la complejidad del algoritmo "
      ]
    },
    {
      "cell_type": "markdown",
      "metadata": {
        "id": "NhpTh_BPk1ms"
      },
      "source": [
        "Respuesta"
      ]
    },
    {
      "cell_type": "markdown",
      "metadata": {
        "id": "Xmkr7jdCUxMC"
      },
      "source": [
        "#### La complejidad del algoritmo mejorado sigue siendo la misma, ya que solo modificamos el orden de iteracion de los bucles. De `O(1)` a `O(n*m)`"
      ]
    },
    {
      "cell_type": "markdown",
      "metadata": {
        "id": "3M6QjTsSkmYe"
      },
      "source": [
        "Según el problema (y tenga sentido), diseña un juego de datos de entrada aleatorios"
      ]
    },
    {
      "cell_type": "markdown",
      "metadata": {
        "id": "Jc3_OlyNkvjZ"
      },
      "source": [
        "Respuesta"
      ]
    },
    {
      "cell_type": "code",
      "metadata": {
        "id": "sJ-N2etjkyWc"
      },
      "source": [
        "# Como el algoritmo se basa en la aleatoriedad, vamos a comprobar si realmente mejora las iteraciones con un conjunto de datos aleatorios\n",
        "\n",
        "# Conjunto de datos aleatorios dentro de nuestro espacio de soluciones\n",
        "rand_numbers = [random.randint(min_value,max_value) for i in range(5)]"
      ],
      "execution_count": 62,
      "outputs": []
    },
    {
      "cell_type": "markdown",
      "metadata": {
        "id": "zy5ZROmjlGo1"
      },
      "source": [
        "Aplica el algoritmo al juego de datos generado"
      ]
    },
    {
      "cell_type": "markdown",
      "metadata": {
        "id": "_Cmj-PVylMsa"
      },
      "source": [
        "Respuesta"
      ]
    },
    {
      "cell_type": "code",
      "metadata": {
        "id": "Jkx8GeiYlUz1",
        "colab": {
          "base_uri": "https://localhost:8080/"
        },
        "outputId": "e4ccdb36-c480-455d-e804-8b93a2347af3"
      },
      "source": [
        "# 5 numero aleatorios con el algoritmo sin mejorar\n",
        "for num in rand_numbers:\n",
        "  search_formula(num)"
      ],
      "execution_count": 65,
      "outputs": [
        {
          "output_type": "stream",
          "text": [
            "40531 iteraciones para el numero -35. Formula encontrada -> 2/1+3-5*8\n",
            "42235 iteraciones para el numero -56. Formula encontrada -> 2/1+5-7*9\n",
            "42115 iteraciones para el numero -47. Formula encontrada -> 2/1+5-6*9\n",
            "14067 iteraciones para el numero 31. Formula encontrada -> 1+4*8-6/3\n",
            "25089 iteraciones para el numero -49. Formula encontrada -> 1-6*9+8/2\n"
          ],
          "name": "stdout"
        }
      ]
    },
    {
      "cell_type": "code",
      "metadata": {
        "colab": {
          "base_uri": "https://localhost:8080/"
        },
        "id": "frUIP2iBWpzm",
        "outputId": "74f079ce-425b-46fd-d5bf-628b92f38381"
      },
      "source": [
        "# 5 numero aleatorios con el algoritmo mejorado\n",
        "for num in rand_numbers:\n",
        "  search_formula_rand(num)"
      ],
      "execution_count": 66,
      "outputs": [
        {
          "output_type": "stream",
          "text": [
            "1325  iteraciones para el numero -35. Formula encontrada -> 2+8/1-5*9\n",
            "16  iteraciones para el numero -56. Formula encontrada -> 5+2-9*7/1\n",
            "4293  iteraciones para el numero -47. Formula encontrada -> 6-7/1*8+3\n",
            "156  iteraciones para el numero 31. Formula encontrada -> 4*8-3/1+2\n",
            "426  iteraciones para el numero -49. Formula encontrada -> 5/1+2-7*8\n"
          ],
          "name": "stdout"
        }
      ]
    },
    {
      "cell_type": "markdown",
      "metadata": {
        "id": "eTFWUJQrtGcv"
      },
      "source": [
        "Enumera las referencias que has utilizado(si ha sido necesario) para llevar a cabo el trabajo"
      ]
    },
    {
      "cell_type": "markdown",
      "metadata": {
        "id": "YKQ_mRBttWsP"
      },
      "source": [
        "Respuesta"
      ]
    },
    {
      "cell_type": "markdown",
      "metadata": {
        "id": "9lFEjIyIKHHR"
      },
      "source": [
        "#### Producto cartesiano: https://en.wikipedia.org/wiki/Cartesian_product#:~:text=In%20mathematics%2C%20specifically%20set%20theory,and%20a%20set%20of%20columns. <br>\n",
        "#### Producto cartesiano de la libreria itertools: https://docs.python.org/3/library/itertools.html#itertools.product <br>\n",
        "#### Permutaciones de la libreria itertools: https://docs.python.org/3/library/itertools.html#itertools.permutations <br>"
      ]
    },
    {
      "cell_type": "markdown",
      "metadata": {
        "id": "kAkDPUyRtYyH"
      },
      "source": [
        "Describe brevemente las lineas de como crees que es posible avanzar en el estudio del problema. Ten en cuenta incluso posibles variaciones del problema y/o variaciones al alza del tamaño"
      ]
    },
    {
      "cell_type": "markdown",
      "metadata": {
        "id": "IE0uZmo-tZu-"
      },
      "source": [
        "Respuesta"
      ]
    },
    {
      "cell_type": "markdown",
      "metadata": {
        "id": "MbyUlGsXXYKg"
      },
      "source": [
        "#### El estudio del problema se podría seguir estudiando y mejorando, ya que, aunque hemos mejorado bastante el número de iteraciones para encontrar una formula para un número dado, lo hemos resuelto con una tecnica metaheurísticas basada en la busqueda aleatoria. Y como toda técnica basada en la aleatoriedad, siempre hay un porcentaje de posibilidad de que el algoritmo no mejore las iteraciones. \n",
        "#### Se podría estudiar el uso de otros métodos metaheurísticos como la búsqueda tabu, que se basa en una técnica que intenta escapar de mínimos locales. "
      ]
    }
  ]
}